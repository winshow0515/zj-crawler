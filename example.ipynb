{
 "cells": [
  {
   "cell_type": "code",
   "execution_count": 1,
   "id": "d0692027",
   "metadata": {},
   "outputs": [
    {
     "name": "stdout",
     "output_type": "stream",
     "text": [
      "Response Code: 200\n"
     ]
    }
   ],
   "source": [
    "import requests\n",
    "import html\n",
    "import re # Regular Expression\n",
    "response = requests.get(\"https://zerojudge.tw/ShowProblem?problemid=q838\")\n",
    "print(f\"Response Code: {response.status_code}\")\n",
    "response.content # 拿 bytes \n",
    "data = response.text # 拿 str\n"
   ]
  },
  {
   "cell_type": "code",
   "execution_count": 3,
   "id": "2fc14536",
   "metadata": {},
   "outputs": [
    {
     "name": "stdout",
     "output_type": "stream",
     "text": [
      "Problem title : q838. 3. 貪心闖關\n",
      "Problem Tags : []\n",
      "Problem Submission 人數：\n",
      "通過人數： 216人\n",
      "嘗試人數： 320人 \n",
      "通過率： 68%\n",
      "Problem Scoring Method : Tolerant\n",
      "Problem Last Updated : 2025-06-16 09:11\n"
     ]
    }
   ],
   "source": [
    "\n",
    "#q838. 3. 貪心闖關\n",
    "title = re.findall(r'<title>(.*) - 高中生程式解題系統</title>', data)[0]\n",
    "print(\"Problem title :\", title)\n",
    "\n",
    "\n",
    "problem_infor = re.findall(r'<div class=\"col-md-4\">(.*?</div>.*?)</div>', data, re.DOTALL)[0]\n",
    "#print(\"Problem Information :\\n\", problem_infor)\n",
    "\n",
    "#題目標籤\n",
    "problem_tags = re.findall(r'<span class=\"tag\">(.*?)</span>', problem_infor, re.DOTALL)[0].strip()\n",
    "problem_tags = re.sub(r'<a.*?>|</a>', '', problem_tags).split()  # 移除 <a> 標籤\n",
    "print(\"Problem Tags :\", problem_tags)\n",
    "\n",
    "\n",
    "#通過比率\n",
    "# 原始抓到的是整段 <span title=\"解題統計\">...</span> 的內容（含兩個 <a>）\n",
    "submission_html = re.findall(r'<span title=\"解題統計\">(.*?)</span>', problem_infor, re.DOTALL)[0]\n",
    "submission_links = re.findall(r'<a .*?>(.*?)</a>', submission_html, re.DOTALL)\n",
    "percent_text = re.findall(r'\\d+%', submission_html, re.DOTALL)[0].strip()\n",
    "print(\"Problem Submission 人數：\")\n",
    "print(\"通過人數：\", submission_links[0])   # 例如：36087人\n",
    "print(\"嘗試人數：\", submission_links[1])   # 例如：38982人\n",
    "print(\"通過率：\", percent_text)  # 例如：92.1%\n",
    "\n",
    "\n",
    "#評分方式\n",
    "Scoring_method = re.findall(r'<div class=\"btn btn-warning btn-xs\">(.*?)</div>', problem_infor, re.DOTALL)[0]\n",
    "print(\"Problem Scoring Method :\", Scoring_method)\n",
    "\n",
    "\n",
    "#最近更新\n",
    "print(\"Problem Last Updated :\", re.findall(r'<br /> 最近更新 :(.*?)<br />', problem_infor, re.DOTALL)[0].strip())\n"
   ]
  }
 ],
 "metadata": {
  "kernelspec": {
   "display_name": "Python 3",
   "language": "python",
   "name": "python3"
  },
  "language_info": {
   "codemirror_mode": {
    "name": "ipython",
    "version": 3
   },
   "file_extension": ".py",
   "mimetype": "text/x-python",
   "name": "python",
   "nbconvert_exporter": "python",
   "pygments_lexer": "ipython3",
   "version": "3.13.5"
  }
 },
 "nbformat": 4,
 "nbformat_minor": 5
}
