{
 "cells": [
  {
   "cell_type": "code",
   "execution_count": 85,
   "id": "d0692027",
   "metadata": {},
   "outputs": [
    {
     "name": "stdout",
     "output_type": "stream",
     "text": [
      "Response Code: 200\n"
     ]
    }
   ],
   "source": [
    "import requests\n",
    "import html\n",
    "import re # Regular Expression\n",
    "response = requests.get(\"https://zerojudge.tw/ShowProblem?problemid=a001\")\n",
    "print(f\"Response Code: {response.status_code}\")\n",
    "response.content # 拿 bytes \n",
    "data = response.text # 拿 str\n",
    "#print(html.unescape(data))\n"
   ]
  },
  {
   "cell_type": "code",
   "execution_count": 86,
   "id": "2fc14536",
   "metadata": {},
   "outputs": [
    {
     "name": "stdout",
     "output_type": "stream",
     "text": [
      "Problem title : a001. 哈囉\n",
      "Problem Tags : ['基本輸出輸入']\n",
      "Problem Submission 人數：\n",
      "通過人數： 115360人\n",
      "嘗試人數： 126232人 \n",
      "通過率： 91%\n",
      "Problem Scoring Method : Tolerant\n",
      "Problem Last Updated : 2020-01-02 11:12\n"
     ]
    }
   ],
   "source": [
    "\n",
    "#q838. 3. 貪心闖關\n",
    "title = re.findall(r'<title>(.*) - 高中生程式解題系統</title>', data)[0]\n",
    "print(\"Problem title :\", title)\n",
    "\n",
    "\n",
    "problem_infor = re.findall(r'<div class=\"col-md-4\">(.*?</div>.*?)</div>', data, re.DOTALL)[0]\n",
    "#print(\"Problem Information :\\n\", problem_infor)\n",
    "\n",
    "#題目標籤\n",
    "problem_tags = re.findall(r'<span class=\"tag\">(.*?)</span>', problem_infor, re.DOTALL)[0].strip()\n",
    "problem_tags = re.sub(r'<a.*?>|</a>', '', problem_tags).split()  # 移除 <a> 標籤\n",
    "print(\"Problem Tags :\", problem_tags)\n",
    "\n",
    "\n",
    "#通過比率\n",
    "# 原始抓到的是整段 <span title=\"解題統計\">...</span> 的內容（含兩個 <a>）\n",
    "submission_html = re.findall(r'<span title=\"解題統計\">(.*?)</span>', problem_infor, re.DOTALL)[0]\n",
    "submission_links = re.findall(r'<a .*?>(.*?)</a>', submission_html, re.DOTALL)\n",
    "percent_text = re.findall(r'\\d+%', submission_html, re.DOTALL)[0].strip()\n",
    "print(\"Problem Submission 人數：\")\n",
    "print(\"通過人數：\", submission_links[0])   # 例如：36087人\n",
    "print(\"嘗試人數：\", submission_links[1])   # 例如：38982人\n",
    "print(\"通過率：\", percent_text)  # 例如：92.1%\n",
    "\n",
    "\n",
    "#評分方式\n",
    "Scoring_method = re.findall(r'<div class=\"btn btn-warning btn-xs\">(.*?)</div>', problem_infor, re.DOTALL)[0]\n",
    "print(\"Problem Scoring Method :\", Scoring_method)\n",
    "\n",
    "\n",
    "#最近更新\n",
    "print(\"Problem Last Updated :\", re.findall(r'<br /> 最近更新 :(.*?)<br />', problem_infor, re.DOTALL)[0].strip())\n"
   ]
  },
  {
   "cell_type": "code",
   "execution_count": null,
   "id": "dc1179dc",
   "metadata": {},
   "outputs": [],
   "source": [
    "\n",
    "#內容\n",
    "div_problem_content = re.findall(r'<div id=\"problem_content\" class=\"problembox\">(.*?)</div>', data,re.DOTALL)[0]\n",
    "paragraphs = re.findall(r'<p>(.*?)</p>', div_problem_content, re.DOTALL)\n",
    "print(\"Problem Content :\")\n",
    "for i, paragraph in enumerate(paragraphs):\n",
    "    paragraphs[i] = html.unescape(paragraph.strip()).replace(\"<br>\", \"\\n\").replace(\"<br />\", \"\\n\")\n",
    "    print(paragraphs[i])\n",
    "\n",
    "\n",
    "#輸入說明\n",
    "problem_theinput = re.findall(r'<div id=\"problem_theinput\" class=\"problembox\">(.*?)</div>', data,re.DOTALL)[0]\n",
    "paragraphs = re.findall(r'<p>(.*?)</p>', problem_theinput, re.DOTALL)\n",
    "print(\"輸入說明 :\")\n",
    "for i, paragraph in enumerate(paragraphs):\n",
    "    paragraphs[i] = html.unescape(paragraph.strip()).replace(\"<br>\", \"\\n\").replace(\"<br />\", \"\\n\")\n",
    "    print(paragraphs[i])\n",
    "\n",
    "#輸出說明\n",
    "problem_theoutput = re.findall(r'<div id=\"problem_theoutput\" class=\"problembox\">(.*?)</div>', data,re.DOTALL)[0]\n",
    "paragraphs = re.findall(r'<p>(.*?)</p>', problem_theoutput, re.DOTALL)\n",
    "print(\"輸出說明 :\")\n",
    "for i, paragraph in enumerate(paragraphs):\n",
    "    paragraphs[i] = html.unescape(paragraph.strip()).replace(\"<br>\", \"\\n\").replace(\"<br />\", \"\\n\")\n",
    "    print(paragraphs[i])\n"
   ]
  },
  {
   "cell_type": "code",
   "execution_count": null,
   "id": "4fe498d3",
   "metadata": {},
   "outputs": [],
   "source": [
    "example_case = re.findall(r'<div class=\"problembox\">.*?<pre>(.*?)</pre>', data, re.DOTALL)\n",
    "#print(example_case)\n",
    "for i in range(0, len(example_case), 2):\n",
    "    print(f\"Input {i//2+1}:\")\n",
    "    print(example_case[i].strip())\n",
    "    print(f\"Output {i//2+1}:\")\n",
    "    print(example_case[i+1].strip())\n"
   ]
  },
  {
   "cell_type": "code",
   "execution_count": null,
   "id": "5f365bb9",
   "metadata": {},
   "outputs": [],
   "source": [
    "case_info = re.findall(r'<div class=\"panel panel-default\">.*?<div class=\"panel-heading\">測資資訊：</div>.*?<div class=\"panel-body\">(.*?)</div', data, re.DOTALL)[0]\n",
    "case_info = re.sub(r'\\t', '', html.unescape(case_info))\n",
    "case_info = re.sub(r'<br />', '', case_info)\n",
    "case_info = case_info.split()\n",
    "\n",
    "\n",
    "fmt = \"| {: <4s} | {: <10s} | {: <8s} | {: <8s} | {: <6s} |\"\n",
    "print(case_info[0],case_info[1],case_info[2])\n",
    "for i in range(3, len(case_info), 6):\n",
    "    print(fmt.format(case_info[i],case_info[i+1],case_info[i+2],case_info[i+3],case_info[i+5]))\n"
   ]
  },
  {
   "cell_type": "code",
   "execution_count": null,
   "id": "7ff2dad5",
   "metadata": {},
   "outputs": [],
   "source": [
    "div_problem_hint = re.findall(r'<div id=\"problem_hint\" class=\"problembox\">(.*?)</div>', data, re.DOTALL)[0]\n",
    "#print(div_problem_hint)\n",
    "\n",
    "problem_hint = re.findall(r'<p>(.*?)</p>', div_problem_hint, re.DOTALL)\n",
    "print('problem hint:')\n",
    "for text in problem_hint:\n",
    "    print(html.unescape(re.sub(r'<br />', '\\n', text)))\n",
    "problem_tags = re.findall(r'<span class=\"tag\">(.*?)</span>', data, re.DOTALL)[1].strip()\n",
    "problem_tags = re.sub(r'<a.*?>|</a>', '', problem_tags).split()  # 移除 <a> 標籤\n",
    "reference = re.findall(r'<span id=\"reference\">(.*?)</span>', data, re.DOTALL)[0]\n",
    "reference = re.findall(r'<a.*?>(.*?)</a>', reference, re.DOTALL)\n",
    "manager = re.findall(r'<span style=\"display: inline-block;\">(.*?)</div>', data, re.DOTALL)[0]\n",
    "manager_email = re.findall(r'<a.*?title=\"(.*?)\"', manager, re.DOTALL)[0]\n",
    "manager_name = re.findall(r'<span title=.*?>(.*?)</span>', manager, re.DOTALL)[0]\n",
    "print(\"reference :\",reference)\n",
    "print('manager : ', manager_email, manager_name)\n",
    "print(\"Problem Tags :\", problem_tags)\n"
   ]
  },
  {
   "cell_type": "code",
   "execution_count": 84,
   "id": "66e17985",
   "metadata": {},
   "outputs": [
    {
     "name": "stdout",
     "output_type": "stream",
     "text": [
      "| 41123 | Elvis0606                      | (...)                | a001 | python 新手看過來  一看完就懂 (認真想學再進來看) 包含基本的輸入 看完記得給個讚!                  | 6261  | 2024-07-05 22:04 |\n",
      "| 39197 | tony20070530@gmail.com         | (梁允同)                | a001 | python詳解                                                         | 7748  | 2024-01-22 08:16 |\n",
      "| 39369 | yuntongliang0@gmail.com        | (105 23梁允同)          | a001 | 程式新手看過來                                                          | 4317  | 2024-02-10 17:43 |\n",
      "| 38785 | tony20070530@gmail.com         | (梁允同)                | a001 | python教學                                                         | 2620  | 2023-12-23 13:37 |\n",
      "| 38783 | tony20070530@gmail.com         | (梁允同)                | a001 | C++教學                                                            | 6557  | 2023-12-23 13:35 |\n"
     ]
    }
   ],
   "source": [
    "#解題報告\n",
    "tbody = re.findall('<tr>(.*?)</tr>', data, re.DOTALL)\n",
    "\n",
    "\n",
    "fmt2 = \"| {: <5s} | {: <30s} | {: <20s} | {: <4s} | {: <64s} | {: <5} | {: <16} |\"\n",
    "\n",
    "if '<div align=\"center\">' in tbody[1]:    #判斷是否有解題報告\n",
    "    print('沒有發現任何「解題報告」')\n",
    "else:\n",
    "    # 每個tr底下有6個td，分別是 [編號,身分,題目,主題,人氣,發表日期]\n",
    "    for i in tbody[1:]:\n",
    "        tr = re.findall(r'<td.*?>(.*?)</td>', i, re.DOTALL)\n",
    "        number = tr[0].strip()\n",
    "        email = re.findall(r'<a.*?title=\"(.*?)\"', tr[1], re.DOTALL)[0]\n",
    "        name = re.findall(r'<span title=.*?>(.*?)</span>', tr[1], re.DOTALL)[0]\n",
    "        problem_id = re.findall(r'<a .*?>(.*?)</a>', tr[2], re.DOTALL)[0]\n",
    "        articletitle = re.findall(r'<a .*?>(.*?)</a>', tr[3], re.DOTALL)[0]\n",
    "        popularity = tr[4].strip()\n",
    "        time = tr[5].strip()\n",
    "        print(fmt2.format(number, email, name, problem_id, articletitle, popularity, time))"
   ]
  },
  {
   "cell_type": "markdown",
   "id": "e34ebc0a",
   "metadata": {},
   "source": [
    "| 41045 | glps1004@gmail.com             | (Ian)                | j608 | APCS 202301解                                                     | 431   | 2024-06-28 11:49 |\n",
    "| 37432 | a110608@ctes.ylc.edu.tw        | (鍾均)                 | j608 | C++ &amp; Python 雙題解！(附完整解題過程&amp;程式碼) (有40%解與AC解)               | 1132  | 2023-09-08 11:50 |\n",
    "| 36787 | fire5386                       | (becaidorz)          | j608 | 題解+類似題                                                           | 765   | 2023-08-08 15:12 |\n",
    "| 36052 | course@wiseai.me               | (Course WiseAI)      | j608 | Python解                                                          | 722   | 2023-07-01 23:46 |\n",
    "| 35423 | alen24816@gmail.com            | (AlenLU)             | j608 | python 14行AC(0.7s)                                               | 695   | 2023-06-01 22:10 |"
   ]
  }
 ],
 "metadata": {
  "kernelspec": {
   "display_name": "Python 3",
   "language": "python",
   "name": "python3"
  },
  "language_info": {
   "codemirror_mode": {
    "name": "ipython",
    "version": 3
   },
   "file_extension": ".py",
   "mimetype": "text/x-python",
   "name": "python",
   "nbconvert_exporter": "python",
   "pygments_lexer": "ipython3",
   "version": "3.13.5"
  }
 },
 "nbformat": 4,
 "nbformat_minor": 5
}
